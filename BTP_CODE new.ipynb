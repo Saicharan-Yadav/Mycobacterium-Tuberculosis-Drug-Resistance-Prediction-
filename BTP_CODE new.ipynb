{
 "cells": [
  {
   "cell_type": "code",
   "execution_count": 19,
   "metadata": {},
   "outputs": [],
   "source": [
    "import pandas as pd\n",
    "from sklearn.model_selection import train_test_split,GridSearchCV\n",
    "from sklearn.metrics import accuracy_score,precision_score,recall_score,f1_score,roc_auc_score,classification_report,confusion_matrix\n",
    "from sklearn.decomposition import PCA\n",
    "import seaborn as sns\n",
    "import matplotlib.pyplot as plt\n",
    "from sklearn.ensemble import RandomForestClassifier\n",
    "from sklearn import svm\n",
    "from sklearn.linear_model import LogisticRegression\n",
    "from sklearn.naive_bayes import BernoulliNB"
   ]
  },
  {
   "cell_type": "code",
   "execution_count": 1,
   "metadata": {},
   "outputs": [
    {
     "ename": "NameError",
     "evalue": "name 'pd' is not defined",
     "output_type": "error",
     "traceback": [
      "\u001b[1;31m---------------------------------------------------------------------------\u001b[0m",
      "\u001b[1;31mNameError\u001b[0m                                 Traceback (most recent call last)",
      "Input \u001b[1;32mIn [1]\u001b[0m, in \u001b[0;36m<cell line: 1>\u001b[1;34m()\u001b[0m\n\u001b[1;32m----> 1\u001b[0m x\u001b[38;5;241m=\u001b[39m\u001b[43mpd\u001b[49m\u001b[38;5;241m.\u001b[39mread_csv(\u001b[38;5;124m\"\u001b[39m\u001b[38;5;124mX.csv\u001b[39m\u001b[38;5;124m\"\u001b[39m)\n\u001b[0;32m      2\u001b[0m y\u001b[38;5;241m=\u001b[39mpd\u001b[38;5;241m.\u001b[39mread_csv(\u001b[38;5;124m\"\u001b[39m\u001b[38;5;124mY.csv\u001b[39m\u001b[38;5;124m\"\u001b[39m)\n\u001b[0;32m      3\u001b[0m x\u001b[38;5;241m.\u001b[39mhead()\n",
      "\u001b[1;31mNameError\u001b[0m: name 'pd' is not defined"
     ]
    }
   ],
   "source": [
    "x=pd.read_csv(\"X.csv\")\n",
    "y=pd.read_csv(\"Y.csv\")\n"
   ]
  },
  {
   "cell_type": "markdown",
   "metadata": {},
   "source": [
    "#eliminating empty labeled rows"
   ]
  },
  {
   "cell_type": "code",
   "execution_count": 21,
   "metadata": {},
   "outputs": [],
   "source": [
    "rifX=x\n",
    "rifY=y[\"RIF\"]\n",
    "rif=pd.concat([rifX,rifY],axis=1)\n",
    "indices=rif[rif[\"RIF\"]==-1].index\n",
    "rifFiltered=rif.drop(indices)\n",
    "\n",
    "# X and Y after data is preprocessed\n",
    "rifX=rifFiltered.iloc[:,0:222]\n",
    "rifY=rifFiltered[\"RIF\"]\n"
   ]
  },
  {
   "cell_type": "markdown",
   "metadata": {},
   "source": [
    "# finding imbalance"
   ]
  },
  {
   "cell_type": "code",
   "execution_count": 22,
   "metadata": {},
   "outputs": [
    {
     "name": "stdout",
     "output_type": "stream",
     "text": [
      "1    2057\n",
      "0    1278\n",
      "Name: RIF, dtype: int64\n"
     ]
    },
    {
     "data": {
      "image/png": "[encoded data removed]",
      "text/plain": [
       "<Figure size 432x288 with 1 Axes>"
      ]
     },
     "metadata": {
      "needs_background": "light"
     },
     "output_type": "display_data"
    }
   ],
   "source": [
    "counts=rifFiltered['RIF'].value_counts()\n",
    "print(counts)\n",
    "proportions = counts / counts.sum()\n",
    "proportions=proportions*100\n",
    "sns.barplot(x=[\"Resistant\",\"Suspectible\"],y=proportions.values)\n",
    "plt.show()"
   ]
  },
  {
   "cell_type": "code",
   "execution_count": 23,
   "metadata": {},
   "outputs": [],
   "source": [
    "# print(rifX.shape)\n",
    "\n",
    "# from sklearn.decomposition import PCA\n",
    "# pca=PCA(n_components=200)\n",
    "# rifX=pca.fit_transform(rifX)\n",
    "# print(rifX.shape)\n",
    "\n",
    "\n",
    "rifX_train,rifX_test,rifY_train,rifY_test=train_test_split(rifX,rifY,test_size=0.2,random_state=21)"
   ]
  },
  {
   "cell_type": "markdown",
   "metadata": {},
   "source": [
    "# parameter tuning for random forest"
   ]
  },
  {
   "cell_type": "code",
   "execution_count": 25,
   "metadata": {},
   "outputs": [
    {
     "name": "stdout",
     "output_type": "stream",
     "text": [
      "{'max_depth': 5, 'n_estimators': 50}\n"
     ]
    }
   ],
   "source": [
    "model1=RandomForestClassifier()\n",
    "param_grid = {\n",
    "    'n_estimators': [30,50, 100],\n",
    "    'max_depth': [None, 5, 10],\n",
    "}\n",
    "grid_search = GridSearchCV(model1, param_grid=param_grid, cv=5, n_jobs=-1,scoring='roc_auc')\n",
    "grid_search.fit(rifX, rifY)\n",
    "print(grid_search.best_params_)"
   ]
  },
  {
   "cell_type": "markdown",
   "metadata": {},
   "source": [
    "# parameter tuning for svm"
   ]
  },
  {
   "cell_type": "code",
   "execution_count": 26,
   "metadata": {},
   "outputs": [
    {
     "name": "stdout",
     "output_type": "stream",
     "text": [
      "{'C': 0.1, 'gamma': 0.1, 'kernel': 'linear'}\n"
     ]
    }
   ],
   "source": [
    "model2=svm.SVC()\n",
    "param_grid = {'C': [0.1, 1, 10], 'gamma': [0.1, 1, 10], 'kernel': ['linear', 'rbf']}\n",
    "grid_search = GridSearchCV(model2, param_grid, refit=True, verbose=0, cv=5,scoring='roc_auc')\n",
    "grid_search.fit(rifX, rifY)\n",
    "print(grid_search.best_params_)"
   ]
  },
  {
   "cell_type": "markdown",
   "metadata": {},
   "source": [
    "# parameter tuning for BernoulliNB"
   ]
  },
  {
   "cell_type": "code",
   "execution_count": 27,
   "metadata": {},
   "outputs": [
    {
     "name": "stdout",
     "output_type": "stream",
     "text": [
      "Best hyperparameters: {'alpha': 10}\n"
     ]
    }
   ],
   "source": [
    "model4=BernoulliNB()\n",
    "param_grid = {'alpha': [0.1, 1, 10]}\n",
    "grid_search = GridSearchCV(model4, param_grid=param_grid, cv=5,scoring='roc_auc')\n",
    "grid_search.fit(rifX, rifY)\n",
    "print(\"Best hyperparameters:\", grid_search.best_params_)"
   ]
  },
  {
   "cell_type": "markdown",
   "metadata": {},
   "source": [
    "# model1 (random forest)"
   ]
  },
  {
   "cell_type": "code",
   "execution_count": 29,
   "metadata": {},
   "outputs": [
    {
     "name": "stdout",
     "output_type": "stream",
     "text": [
      "Random forest\n",
      "--------------------\n",
      "accuracy  0.9130434782608695\n",
      "f1_score  0.9276807980049875\n",
      "auc  0.9176548089591567\n",
      "precision  0.9587628865979382\n",
      "sensitivity  0.8985507246376812\n",
      "specificity  0.10144927536231885\n"
     ]
    },
    {
     "data": {
      "image/png": "[encoded data removed]",
      "text/plain": [
       "<Figure size 432x288 with 2 Axes>"
      ]
     },
     "metadata": {
      "needs_background": "light"
     },
     "output_type": "display_data"
    }
   ],
   "source": [
    "rifModel1=RandomForestClassifier(n_estimators=50,max_depth=5)\n",
    "rifModel1.fit(rifX_train,rifY_train)\n",
    "rifPred=rifModel1.predict(rifX_test)\n",
    "print(\"Random forest\")\n",
    "print(\"--------------------\")\n",
    "print(\"accuracy \", accuracy_score(rifY_test,rifPred))\n",
    "print(\"f1_score \", f1_score(rifY_test,rifPred))\n",
    "print(\"auc \", roc_auc_score(rifY_test,rifPred))\n",
    "print(\"precision \",precision_score(rifY_test,rifPred))\n",
    "print(\"sensitivity \",recall_score(rifY_test,rifPred))\n",
    "print(\"specificity \",1-recall_score(rifY_test,rifPred))\n",
    "cm=(confusion_matrix(rifY_test,rifPred))\n",
    "sns.heatmap(cm,annot=True,cmap=\"Blues\",fmt=\"d\")\n",
    "plt.title(\"Confusion Matrix\")\n",
    "plt.xlabel(\"Predicted Label\")\n",
    "plt.ylabel(\"Actual Label\")\n",
    "plt.show()"
   ]
  },
  {
   "cell_type": "markdown",
   "metadata": {},
   "source": [
    "below is the template for the above confusion matrix"
   ]
  },
  {
   "attachments": {
    "image.png": {
     "image/png": "[encoded data removed]"
    }
   },
   "cell_type": "markdown",
   "metadata": {},
   "source": [
    "![image.png](attachment:image.png)"
   ]
  },
  {
   "cell_type": "markdown",
   "metadata": {},
   "source": [
    "# model 2 (svm)"
   ]
  },
  {
   "cell_type": "code",
   "execution_count": 30,
   "metadata": {},
   "outputs": [
    {
     "name": "stdout",
     "output_type": "stream",
     "text": [
      "SVM\n",
      "--------------------\n",
      "accuracy  0.9760119940029985\n",
      "f1_score  0.9807692307692307\n",
      "auc  0.9729907773386034\n",
      "precision  0.9760765550239234\n",
      "sensitivity  0.9855072463768116\n",
      "specificity  0.01449275362318836\n"
     ]
    },
    {
     "data": {
      "image/png": "[encoded data removed]",
      "text/plain": [
       "<Figure size 432x288 with 2 Axes>"
      ]
     },
     "metadata": {
      "needs_background": "light"
     },
     "output_type": "display_data"
    }
   ],
   "source": [
    "rifModel2=svm.SVC(kernel=\"linear\",C= 0.1, gamma= 0.1)\n",
    "rifModel2.fit(rifX_train,rifY_train)\n",
    "rifPred=rifModel2.predict(rifX_test)\n",
    "print(\"SVM\")\n",
    "print(\"--------------------\")\n",
    "print(\"accuracy \", accuracy_score(rifY_test,rifPred))\n",
    "print(\"f1_score \", f1_score(rifY_test,rifPred))\n",
    "print(\"auc \", roc_auc_score(rifY_test,rifPred))\n",
    "print(\"precision \",precision_score(rifY_test,rifPred))\n",
    "print(\"sensitivity \",recall_score(rifY_test,rifPred))\n",
    "print(\"specificity \",1-recall_score(rifY_test,rifPred))\n",
    "cm=(confusion_matrix(rifY_test,rifPred))\n",
    "sns.heatmap(cm,annot=True,cmap=\"Blues\",fmt=\"d\")\n",
    "plt.title(\"Confusion Matrix\")\n",
    "plt.xlabel(\"Predicted Label\")\n",
    "plt.ylabel(\"Actual Label\")\n",
    "plt.show()"
   ]
  },
  {
   "cell_type": "markdown",
   "metadata": {},
   "source": [
    "# model 3 (Logistic regression)"
   ]
  },
  {
   "cell_type": "code",
   "execution_count": 58,
   "metadata": {},
   "outputs": [
    {
     "name": "stdout",
     "output_type": "stream",
     "text": [
      "Logistic Regression\n",
      "--------------------\n",
      "accuracy  0.9685157421289355\n",
      "f1_score  0.9748502994011977\n",
      "auc  0.9638779095300833\n",
      "precision  0.9667458432304038\n",
      "sensitivity  0.9830917874396136\n",
      "specificity  0.016908212560386437\n"
     ]
    },
    {
     "data": {
      "image/png": "[encoded data removed]",
      "text/plain": [
       "<Figure size 432x288 with 2 Axes>"
      ]
     },
     "metadata": {
      "needs_background": "light"
     },
     "output_type": "display_data"
    }
   ],
   "source": [
    "rifModel3=LogisticRegression()\n",
    "rifModel3.fit(rifX_train,rifY_train)\n",
    "rifPred=rifModel3.predict(rifX_test)\n",
    "print(\"Logistic Regression\")\n",
    "print(\"--------------------\")\n",
    "print(\"accuracy \", accuracy_score(rifY_test,rifPred))\n",
    "print(\"f1_score \", f1_score(rifY_test,rifPred))\n",
    "print(\"auc \", roc_auc_score(rifY_test,rifPred))\n",
    "print(\"precision \",precision_score(rifY_test,rifPred))\n",
    "print(\"sensitivity \",recall_score(rifY_test,rifPred))\n",
    "print(\"specificity \",1-recall_score(rifY_test,rifPred))\n",
    "cm=(confusion_matrix(rifY_test,rifPred))\n",
    "cm=(confusion_matrix(rifY_test,rifPred))\n",
    "sns.heatmap(cm,annot=True,cmap=\"Blues\",fmt=\"d\")\n",
    "plt.title(\"Confusion Matrix\")\n",
    "plt.xlabel(\"Predicted Label\")\n",
    "plt.ylabel(\"Actual Label\")\n",
    "plt.show()"
   ]
  },
  {
   "cell_type": "markdown",
   "metadata": {},
   "source": [
    "# model4 (bernoulliNB)\n"
   ]
  },
  {
   "cell_type": "code",
   "execution_count": 31,
   "metadata": {},
   "outputs": [
    {
     "name": "stdout",
     "output_type": "stream",
     "text": [
      "BernoulliNB\n",
      "--------------------\n",
      "accuracy  0.9055472263868066\n",
      "f1_score  0.9219330855018587\n",
      "auc  0.9077733860342556\n",
      "precision  0.9465648854961832\n",
      "sensitivity  0.8985507246376812\n",
      "specificity  0.10144927536231885\n"
     ]
    },
    {
     "data": {
      "image/png": "[encoded data removed]",
      "text/plain": [
       "<Figure size 432x288 with 2 Axes>"
      ]
     },
     "metadata": {
      "needs_background": "light"
     },
     "output_type": "display_data"
    }
   ],
   "source": [
    "rifModel4=BernoulliNB(alpha=10)\n",
    "rifModel4.fit(rifX_train,rifY_train)\n",
    "rifPred=rifModel4.predict(rifX_test)\n",
    "print(\"BernoulliNB\")\n",
    "print(\"--------------------\")\n",
    "print(\"accuracy \", accuracy_score(rifY_test,rifPred))\n",
    "print(\"f1_score \", f1_score(rifY_test,rifPred))\n",
    "print(\"auc \", roc_auc_score(rifY_test,rifPred))\n",
    "print(\"precision \",precision_score(rifY_test,rifPred))\n",
    "print(\"sensitivity \",recall_score(rifY_test,rifPred))\n",
    "print(\"specificity \",1-recall_score(rifY_test,rifPred))\n",
    "cm=(confusion_matrix(rifY_test,rifPred))\n",
    "cm=(confusion_matrix(rifY_test,rifPred))\n",
    "sns.heatmap(cm,annot=True,cmap=\"Blues\",fmt=\"d\")\n",
    "plt.title(\"Confusion Matrix\")\n",
    "plt.xlabel(\"Predicted Label\")\n",
    "plt.ylabel(\"Actual Label\")\n",
    "plt.show()"
   ]
  },
  {
   "cell_type": "markdown",
   "metadata": {},
   "source": [
    "# evaluating using cross_validation_score with folds=30"
   ]
  },
  {
   "cell_type": "code",
   "execution_count": 32,
   "metadata": {},
   "outputs": [],
   "source": [
    "from sklearn.model_selection import cross_val_score"
   ]
  },
  {
   "cell_type": "code",
   "execution_count": 33,
   "metadata": {},
   "outputs": [
    {
     "name": "stdout",
     "output_type": "stream",
     "text": [
      "Random Forest\n",
      "Mean f1_score  0.8813079463644358\n",
      "Mean auc  0.9891725648803503\n"
     ]
    }
   ],
   "source": [
    "print(\"Random Forest\")\n",
    "aucScores=cross_val_score(rifModel1, rifX, rifY, cv=30, scoring=\"roc_auc\")\n",
    "f1Scores = cross_val_score(rifModel1, rifX, rifY, cv=30, scoring='f1')\n",
    "print(\"Mean f1_score \",f1Scores.mean())\n",
    "print(\"Mean auc \",aucScores.mean())"
   ]
  },
  {
   "cell_type": "code",
   "execution_count": 34,
   "metadata": {},
   "outputs": [
    {
     "name": "stdout",
     "output_type": "stream",
     "text": [
      "SVM\n",
      "Mean f1_score  0.9548208093221723\n",
      "Mean auc  0.9920520685523956\n"
     ]
    }
   ],
   "source": [
    "print(\"SVM\")\n",
    "aucScores=cross_val_score(rifModel2, rifX, rifY, cv=30, scoring=\"roc_auc\")\n",
    "f1Scores = cross_val_score(rifModel2, rifX, rifY, cv=30, scoring='f1')\n",
    "print(\"Mean f1_score \",f1Scores.mean())\n",
    "print(\"Mean auc \",aucScores.mean())"
   ]
  },
  {
   "cell_type": "code",
   "execution_count": 59,
   "metadata": {},
   "outputs": [
    {
     "name": "stdout",
     "output_type": "stream",
     "text": [
      "Logistic Regression\n",
      "Mean f1_score  0.9524878935833759\n",
      "Mean auc  0.9923538553720557\n"
     ]
    }
   ],
   "source": [
    "print(\"Logistic Regression\")\n",
    "aucScores=cross_val_score(rifModel3, rifX, rifY, cv=30, scoring=\"roc_auc\")\n",
    "f1Scores = cross_val_score(rifModel3, rifX, rifY, cv=30, scoring='f1')\n",
    "print(\"Mean f1_score \",f1Scores.mean())\n",
    "print(\"Mean auc \",aucScores.mean())\n",
    "# print(aucScores)"
   ]
  },
  {
   "cell_type": "code",
   "execution_count": 35,
   "metadata": {},
   "outputs": [
    {
     "name": "stdout",
     "output_type": "stream",
     "text": [
      "BernoulliNB\n",
      "Mean f1_score  0.8802079802946542\n",
      "Mean auc  0.9632356717543774\n"
     ]
    }
   ],
   "source": [
    "print(\"BernoulliNB\")\n",
    "aucScores=cross_val_score(rifModel4, rifX, rifY, cv=30, scoring=\"roc_auc\")\n",
    "f1Scores = cross_val_score(rifModel4, rifX, rifY, cv=30, scoring='f1')\n",
    "print(\"Mean f1_score \",f1Scores.mean())\n",
    "print(\"Mean auc \",aucScores.mean())\n",
    "# print(aucScores)"
   ]
  }
 ],
 "metadata": {
  "kernelspec": {
   "display_name": "Python 3 (ipykernel)",
   "language": "python",
   "name": "python3"
  },
  "language_info": {
   "codemirror_mode": {
    "name": "ipython",
    "version": 3
   },
   "file_extension": ".py",
   "mimetype": "text/x-python",
   "name": "python",
   "nbconvert_exporter": "python",
   "pygments_lexer": "ipython3",
   "version": "3.9.12"
  }
 },
 "nbformat": 4,
 "nbformat_minor": 2
}
